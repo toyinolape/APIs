{
  "nbformat": 4,
  "nbformat_minor": 0,
  "metadata": {
    "colab": {
      "name": "instagram_api",
      "provenance": [],
      "authorship_tag": "ABX9TyN7WY8KRisovv2wFAwab2H3",
      "include_colab_link": true
    },
    "kernelspec": {
      "name": "python3",
      "display_name": "Python 3"
    },
    "language_info": {
      "name": "python"
    }
  },
  "cells": [
    {
      "cell_type": "markdown",
      "metadata": {
        "id": "view-in-github",
        "colab_type": "text"
      },
      "source": [
        "<a href=\"https://colab.research.google.com/github/toyinolape/APIs/blob/master/instagram_api.ipynb\" target=\"_parent\"><img src=\"https://colab.research.google.com/assets/colab-badge.svg\" alt=\"Open In Colab\"/></a>"
      ]
    },
    {
      "cell_type": "code",
      "metadata": {
        "colab": {
          "base_uri": "https://localhost:8080/"
        },
        "id": "1p6uPaXkFMk5",
        "outputId": "3fb3ac55-31af-47d9-afad-9b239d7be78e"
      },
      "source": [
        "!pip install facebook-sdk"
      ],
      "execution_count": 1,
      "outputs": [
        {
          "output_type": "stream",
          "text": [
            "Collecting facebook-sdk\n",
            "  Downloading facebook_sdk-3.1.0-py2.py3-none-any.whl (7.5 kB)\n",
            "Requirement already satisfied: requests in /usr/local/lib/python3.7/dist-packages (from facebook-sdk) (2.23.0)\n",
            "Requirement already satisfied: certifi>=2017.4.17 in /usr/local/lib/python3.7/dist-packages (from requests->facebook-sdk) (2021.5.30)\n",
            "Requirement already satisfied: urllib3!=1.25.0,!=1.25.1,<1.26,>=1.21.1 in /usr/local/lib/python3.7/dist-packages (from requests->facebook-sdk) (1.24.3)\n",
            "Requirement already satisfied: chardet<4,>=3.0.2 in /usr/local/lib/python3.7/dist-packages (from requests->facebook-sdk) (3.0.4)\n",
            "Requirement already satisfied: idna<3,>=2.5 in /usr/local/lib/python3.7/dist-packages (from requests->facebook-sdk) (2.10)\n",
            "Installing collected packages: facebook-sdk\n",
            "Successfully installed facebook-sdk-3.1.0\n"
          ],
          "name": "stdout"
        }
      ]
    },
    {
      "cell_type": "code",
      "metadata": {
        "id": "O91z6OPPWjE9"
      },
      "source": [
        "import facebook as fb\n",
        "import requests as rq"
      ],
      "execution_count": 2,
      "outputs": []
    },
    {
      "cell_type": "code",
      "metadata": {
        "id": "hKpUvF-seQF8"
      },
      "source": [
        "access_token = \"\"\n",
        "graph_api = fb.GraphAPI(access_token)"
      ],
      "execution_count": 3,
      "outputs": []
    },
    {
      "cell_type": "code",
      "metadata": {
        "id": "iqANAv_Q2giB"
      },
      "source": [
        "pages =  graph_api.get_object(id='me',fields=\"pages_id\")\n"
      ],
      "execution_count": null,
      "outputs": []
    },
    {
      "cell_type": "code",
      "metadata": {
        "id": "pr2NWE0JgDvu"
      },
      "source": [
        "url = https://graph.facebook.com/{business_id}?fields=business_discovery.username(instagram_id){username,website,followers_count,media_count}&access_token={access_token}"
      ],
      "execution_count": null,
      "outputs": []
    },
    {
      "cell_type": "code",
      "metadata": {
        "id": "RY3w2Z4ugdtS"
      },
      "source": [
        "https://graph.facebook.com/{business_id}?fields=business_discovery.username(instagram_id){username,website,followers_count,media_count}&access_token={access_token}"
      ],
      "execution_count": null,
      "outputs": []
    },
    {
      "cell_type": "code",
      "metadata": {
        "id": "GdurdK00k-7w"
      },
      "source": [
        "\n",
        "\n",
        "\n",
        "def makeApiCall( url, endpointParams, debug = 'no' ) :\n",
        "\t\"\"\" Request data from endpoint with params\n",
        "\t\n",
        "\tArgs:\n",
        "\t\turl: string of the url endpoint to make request from\n",
        "\t\tendpointParams: dictionary keyed by the names of the url parameters\n",
        "\tReturns:\n",
        "\t\tobject: data from the endpoint\n",
        "\t\"\"\"\n",
        "\n",
        "\tdata = requests.get( url, endpointParams ) # make get request\n",
        "\n",
        "\tresponse = dict() # hold response info\n",
        "\tresponse['url'] = url # url we are hitting\n",
        "\tresponse['endpoint_params'] = endpointParams #parameters for the endpoint\n",
        "\tresponse['endpoint_params_pretty'] = json.dumps( endpointParams, indent = 4 ) # pretty print for cli\n",
        "\tresponse['json_data'] = json.loads( data.content ) # response data from the api\n",
        "\tresponse['json_data_pretty'] = json.dumps( response['json_data'], indent = 4 ) # pretty print for cli\n",
        "\n",
        "\tif ( 'yes' == debug ) : # display out response info\n",
        "\t\tdisplayApiCallData( response ) # display response\n",
        "\n",
        "\treturn response # get and return content\n",
        "\n",
        "def displayApiCallData( response ) :\n",
        "\t\"\"\" Print out to cli response from api call \"\"\"\n",
        "\n",
        "\tprint(\"\\nURL: \") # title\n",
        "\tprint(response['url']) # display url hit\n",
        "\tprint(\"\\nEndpoint Params: \") # title\n",
        "\tprint(response['endpoint_params_pretty']) # display params passed to the endpoint\n",
        "\tprint(\"\\nResponse: \") # title\n",
        "\tprint(response['json_data_pretty']) # make look pretty for cli\n"
      ],
      "execution_count": 20,
      "outputs": []
    },
    {
      "cell_type": "code",
      "metadata": {
        "colab": {
          "base_uri": "https://localhost:8080/",
          "height": 299
        },
        "id": "01M0Mu2zWp3q",
        "outputId": "9b21cfab-e30a-4fae-8c3f-158719dadc29"
      },
      "source": [
        "#from defines import getCreds, makeApiCall\n",
        "\n",
        "def getUserMedia( params ) :\n",
        "\t\"\"\" Get users media\n",
        "\t\n",
        "\tAPI Endpoint:\n",
        "\t\thttps://graph.facebook.com/{graph-api-version}/{ig-user-id}/media?fields={fields}\n",
        "\tReturns:\n",
        "\t\tobject: data from the endpoint\n",
        "\t\"\"\"\n",
        "\n",
        "\tendpointParams = dict() # parameter to send to the endpoint\n",
        "\tendpointParams['fields'] = 'id,caption,media_type,media_url,permalink,thumbnail_url,timestamp,username' # fields to get back\n",
        "\tendpointParams['access_token'] = params['access_token'] # access token\n",
        "\n",
        "\turl = params['endpoint_base'] + params['instagram_account_id'] + '/media' # endpoint url\n",
        "\n",
        "\treturn makeApiCall( url, endpointParams, params['debug'] ) # make the api call\n",
        "\n",
        "def getMediaInsights( params ) :\n",
        "\t\"\"\" Get insights for a specific media id\n",
        "\t\n",
        "\tAPI Endpoint:\n",
        "\t\thttps://graph.facebook.com/{graph-api-version}/{ig-media-id}/insights?metric={metric}\n",
        "\tReturns:\n",
        "\t\tobject: data from the endpoint\n",
        "\t\"\"\"\n",
        "\tendpointParams = dict() # parameter to send to the endpoint\n",
        "\tendpointParams['metric'] = params['metric'] # fields to get back\n",
        "\tendpointParams['access_token'] = params['access_token'] # access token\n",
        "\n",
        "\turl = params['endpoint_base'] + params['latest_media_id'] + '/insights' # endpoint url\n",
        "\n",
        "\treturn makeApiCall( url, endpointParams, params['debug'] ) # make the api call\n",
        "\n",
        "def getUserInsights( params ) :\n",
        "\t\"\"\" Get insights for a users account\n",
        "\t\n",
        "\tAPI Endpoint:\n",
        "\t\thttps://graph.facebook.com/{graph-api-version}/{ig-user-id}/insights?metric={metric}&period={period}\n",
        "\tReturns:\n",
        "\t\tobject: data from the endpoint\n",
        "\t\"\"\"\n",
        "\n",
        "\tendpointParams = dict() # parameter to send to the endpoint\n",
        "\tendpointParams['metric'] = 'follower_count,impressions,profile_views,reach' # fields to get back\n",
        "\tendpointParams['period'] = 'day' # period\n",
        "\tendpointParams['access_token'] = params['access_token'] # access token\n",
        "\n",
        "\turl = params['endpoint_base'] + params['instagram_account_id'] + '/insights' # endpoint url\n",
        "\n",
        "\treturn makeApiCall( url, endpointParams, params['debug'] ) # make the api call\n",
        "\n",
        "params = getCreds() # get creds\n",
        "response = getUserMedia( params ) # get users media from the api\n",
        "\n",
        "print(\"\\n---- LATEST POST -----\\n\") # section header\n",
        "print(\"\\tLink to post:\") # link to post\n",
        "print(\"\\t\" + response['json_data']['data'][0]['permalink']) # link to post\n",
        "print(\"\\n\\tPost caption:\") # post caption\n",
        "print(\"\\t\" + response['json_data']['data'][0]['caption']) # post caption\n",
        "print(\"\\n\\tMedia Type:\") # type of media\n",
        "print(\"\\t\" + response['json_data']['data'][0]['media_type']) # type of media\n",
        "print(\"\\n\\tPosted at:\") # when it was posted\n",
        "print(\"\\t\" + response['json_data']['data'][0]['timestamp']) # when it was posted\n",
        "\n",
        "params['latest_media_id'] = response['json_data']['data'][0]['id'] # store latest post id\n",
        "\n",
        "if 'VIDEO' == response['json_data']['data'][0]['media_type'] : # media is a video\n",
        "\tparams['metric'] = 'engagement,impressions,reach,saved,video_views'\n",
        "else : # media is an image\n",
        "\tparams['metric'] = 'engagement,impressions,reach,saved'\n",
        "\n",
        "response = getMediaInsights( params ) # get insights for a specific media id\n",
        "\n",
        "print(\"\\n---- LATEST POST INSIGHTS -----\\n\") # section header\n",
        "\n",
        "for insight in response['json_data']['data'] : # loop over post insights\n",
        "\tprint(\"\\t\" + insight['title'] + \" (\" + insight['period'] + \"): \" + str( insight['values'][0]['value'] )) # display info\n",
        "\n",
        "response = getUserInsights( params ) # get insights for a user\n",
        "\n",
        "print(\"\\n---- DAILY USER ACCOUNT INSIGHTS -----\\n\") # section header\n",
        "\n",
        "for insight in response['json_data']['data'] : # loop over user account insights\n",
        "\tprint(\"\\t\" + insight['title'] + \" (\" + insight['period'] + \"): \" + str( insight['values'][0]['value'] )) # display info\n",
        "\n",
        "\tfor value in insight['values'] : # loop over each value\n",
        "\t\tprint(\"\\t\\t\" + value['end_time'] + \": \" + str( value['value'] )) # print out counts for the date\n",
        "\n",
        "\n"
      ],
      "execution_count": 14,
      "outputs": [
        {
          "output_type": "stream",
          "text": [
            "\n",
            "---- LATEST POST -----\n",
            "\n",
            "\tLink to post:\n"
          ],
          "name": "stdout"
        },
        {
          "output_type": "error",
          "ename": "KeyError",
          "evalue": "ignored",
          "traceback": [
            "\u001b[0;31m---------------------------------------------------------------------------\u001b[0m",
            "\u001b[0;31mKeyError\u001b[0m                                  Traceback (most recent call last)",
            "\u001b[0;32m<ipython-input-14-51d0254034f4>\u001b[0m in \u001b[0;36m<module>\u001b[0;34m()\u001b[0m\n\u001b[1;32m     57\u001b[0m \u001b[0mprint\u001b[0m\u001b[0;34m(\u001b[0m\u001b[0;34m\"\\n---- LATEST POST -----\\n\"\u001b[0m\u001b[0;34m)\u001b[0m \u001b[0;31m# section header\u001b[0m\u001b[0;34m\u001b[0m\u001b[0;34m\u001b[0m\u001b[0m\n\u001b[1;32m     58\u001b[0m \u001b[0mprint\u001b[0m\u001b[0;34m(\u001b[0m\u001b[0;34m\"\\tLink to post:\"\u001b[0m\u001b[0;34m)\u001b[0m \u001b[0;31m# link to post\u001b[0m\u001b[0;34m\u001b[0m\u001b[0;34m\u001b[0m\u001b[0m\n\u001b[0;32m---> 59\u001b[0;31m \u001b[0mprint\u001b[0m\u001b[0;34m(\u001b[0m\u001b[0;34m\"\\t\"\u001b[0m \u001b[0;34m+\u001b[0m \u001b[0mresponse\u001b[0m\u001b[0;34m[\u001b[0m\u001b[0;34m'json_data'\u001b[0m\u001b[0;34m]\u001b[0m\u001b[0;34m[\u001b[0m\u001b[0;34m'data'\u001b[0m\u001b[0;34m]\u001b[0m\u001b[0;34m[\u001b[0m\u001b[0;36m0\u001b[0m\u001b[0;34m]\u001b[0m\u001b[0;34m[\u001b[0m\u001b[0;34m'permalink'\u001b[0m\u001b[0;34m]\u001b[0m\u001b[0;34m)\u001b[0m \u001b[0;31m# link to post\u001b[0m\u001b[0;34m\u001b[0m\u001b[0;34m\u001b[0m\u001b[0m\n\u001b[0m\u001b[1;32m     60\u001b[0m \u001b[0mprint\u001b[0m\u001b[0;34m(\u001b[0m\u001b[0;34m\"\\n\\tPost caption:\"\u001b[0m\u001b[0;34m)\u001b[0m \u001b[0;31m# post caption\u001b[0m\u001b[0;34m\u001b[0m\u001b[0;34m\u001b[0m\u001b[0m\n\u001b[1;32m     61\u001b[0m \u001b[0mprint\u001b[0m\u001b[0;34m(\u001b[0m\u001b[0;34m\"\\t\"\u001b[0m \u001b[0;34m+\u001b[0m \u001b[0mresponse\u001b[0m\u001b[0;34m[\u001b[0m\u001b[0;34m'json_data'\u001b[0m\u001b[0;34m]\u001b[0m\u001b[0;34m[\u001b[0m\u001b[0;34m'data'\u001b[0m\u001b[0;34m]\u001b[0m\u001b[0;34m[\u001b[0m\u001b[0;36m0\u001b[0m\u001b[0;34m]\u001b[0m\u001b[0;34m[\u001b[0m\u001b[0;34m'caption'\u001b[0m\u001b[0;34m]\u001b[0m\u001b[0;34m)\u001b[0m \u001b[0;31m# post caption\u001b[0m\u001b[0;34m\u001b[0m\u001b[0;34m\u001b[0m\u001b[0m\n",
            "\u001b[0;31mKeyError\u001b[0m: 'data'"
          ]
        }
      ]
    },
    {
      "cell_type": "code",
      "metadata": {
        "id": "V98z17Le7nyp"
      },
      "source": [
        "#from defines import getCreds, makeApiCall\n",
        "\n",
        "def getUserMedia( params ) :\n",
        "\t\"\"\" Get users media\n",
        "\t\n",
        "\tAPI Endpoint:\n",
        "\t\thttps://graph.facebook.com/{graph-api-version}/{ig-user-id}/media?fields={fields}\n",
        "\tReturns:\n",
        "\t\tobject: data from the endpoint\n",
        "\t\"\"\"\n",
        "\n",
        "\tendpointParams = dict() # parameter to send to the endpoint\n",
        "\tendpointParams['fields'] = 'id,caption,media_type,media_url,permalink,thumbnail_url,timestamp,username' # fields to get back\n",
        "\tendpointParams['access_token'] = params['access_token'] # access token\n",
        "\n",
        "\turl = params['endpoint_base'] + params['instagram_account_id'] + '/media' # endpoint url\n",
        "\n",
        "\treturn makeApiCall( url, endpointParams, params['debug'] ) # make the api call\n",
        "\n",
        "def getMediaInsights( params ) :\n",
        "\t\"\"\" Get insights for a specific media id\n",
        "\t\n",
        "\tAPI Endpoint:\n",
        "\t\thttps://graph.facebook.com/{graph-api-version}/{ig-media-id}/insights?metric={metric}\n",
        "\tReturns:\n",
        "\t\tobject: data from the endpoint\n",
        "\t\"\"\"\n",
        "\tendpointParams = dict() # parameter to send to the endpoint\n",
        "\tendpointParams['metric'] = params['metric'] # fields to get back\n",
        "\tendpointParams['access_token'] = params['access_token'] # access token\n",
        "\n",
        "\turl = params['endpoint_base'] + params['latest_media_id'] + '/insights' # endpoint url\n",
        "\n",
        "\treturn makeApiCall( url, endpointParams, params['debug'] ) # make the api call\n",
        "\n",
        "def getUserInsights( params ) :\n",
        "\t\"\"\" Get insights for a users account\n",
        "\t\n",
        "\tAPI Endpoint:\n",
        "\t\thttps://graph.facebook.com/{graph-api-version}/{ig-user-id}/insights?metric={metric}&period={period}\n",
        "\tReturns:\n",
        "\t\tobject: data from the endpoint\n",
        "\t\"\"\"\n",
        "\n",
        "\tendpointParams = dict() # parameter to send to the endpoint\n",
        "\tendpointParams['metric'] = 'follower_count,impressions,profile_views,reach' # fields to get back\n",
        "\tendpointParams['period'] = 'day' # period\n",
        "\tendpointParams['access_token'] = params['access_token'] # access token\n",
        "\n",
        "\turl = params['endpoint_base'] + params['instagram_account_id'] + '/insights' # endpoint url\n",
        "\n",
        "\treturn makeApiCall( url, endpointParams, params['debug'] ) # make the api call\n",
        "\n",
        "\n",
        "\n",
        "def getUserInsights( params ) :\n",
        "\t\"\"\" Get insights for a users account\n",
        "\t\n",
        "\tAPI Endpoint:\n",
        "\t\thttps://graph.facebook.com/{graph-api-version}/{ig-user-id}/insights?metric={metric}&period={period}\n",
        "\tReturns:\n",
        "\t\tobject: data from the endpoint\n",
        "\t\"\"\"\n",
        "\n",
        "\tendpointParams = dict() # parameter to send to the endpoint\n",
        "\tendpointParams['metric'] = 'follower_count,impressions,profile_views,reach' # fields to get back\n",
        "\tendpointParams['period'] = 'day' # period\n",
        "\tendpointParams['access_token'] = params['access_token'] # access token\n",
        "\n",
        "\turl = params['endpoint_base'] + params['instagram_account_id'] + '/insights' # endpoint url\n",
        "\n",
        "\treturn makeApiCall( url, endpointParams, params['debug'] ) # make the api cal\n",
        "params = getCreds() # get creds\n",
        "response = getUserInsights( params ) # get users media from the api\n",
        "response\n"
      ],
      "execution_count": null,
      "outputs": []
    }
  ]
}