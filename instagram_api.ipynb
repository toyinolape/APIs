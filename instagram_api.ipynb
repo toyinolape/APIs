{
  "nbformat": 4,
  "nbformat_minor": 0,
  "metadata": {
    "colab": {
      "name": "instagram_api",
      "provenance": [],
      "authorship_tag": "ABX9TyMjFsoiI72XxRYHPDy8xfXt",
      "include_colab_link": true
    },
    "kernelspec": {
      "name": "python3",
      "display_name": "Python 3"
    },
    "language_info": {
      "name": "python"
    }
  },
  "cells": [
    {
      "cell_type": "markdown",
      "metadata": {
        "id": "view-in-github",
        "colab_type": "text"
      },
      "source": [
        "<a href=\"https://colab.research.google.com/github/toyinolape/APIs/blob/master/instagram_api.ipynb\" target=\"_parent\"><img src=\"https://colab.research.google.com/assets/colab-badge.svg\" alt=\"Open In Colab\"/></a>"
      ]
    },
    {
      "cell_type": "code",
      "metadata": {
        "colab": {
          "base_uri": "https://localhost:8080/"
        },
        "id": "1p6uPaXkFMk5",
        "outputId": "6efd113c-c5a4-4230-c079-4c1a088289dc"
      },
      "source": [
        "!pip install facebook-sdk"
      ],
      "execution_count": 1,
      "outputs": [
        {
          "output_type": "stream",
          "text": [
            "Collecting facebook-sdk\n",
            "  Downloading facebook_sdk-3.1.0-py2.py3-none-any.whl (7.5 kB)\n",
            "Requirement already satisfied: requests in /usr/local/lib/python3.7/dist-packages (from facebook-sdk) (2.23.0)\n",
            "Requirement already satisfied: certifi>=2017.4.17 in /usr/local/lib/python3.7/dist-packages (from requests->facebook-sdk) (2021.5.30)\n",
            "Requirement already satisfied: chardet<4,>=3.0.2 in /usr/local/lib/python3.7/dist-packages (from requests->facebook-sdk) (3.0.4)\n",
            "Requirement already satisfied: urllib3!=1.25.0,!=1.25.1,<1.26,>=1.21.1 in /usr/local/lib/python3.7/dist-packages (from requests->facebook-sdk) (1.24.3)\n",
            "Requirement already satisfied: idna<3,>=2.5 in /usr/local/lib/python3.7/dist-packages (from requests->facebook-sdk) (2.10)\n",
            "Installing collected packages: facebook-sdk\n",
            "Successfully installed facebook-sdk-3.1.0\n"
          ],
          "name": "stdout"
        }
      ]
    },
    {
      "cell_type": "code",
      "metadata": {
        "id": "O91z6OPPWjE9"
      },
      "source": [
        "import facebook as fb\n",
        "import requests as rq"
      ],
      "execution_count": 3,
      "outputs": []
    },
    {
      "cell_type": "code",
      "metadata": {
        "id": "hKpUvF-seQF8"
      },
      "source": [
        "access_token = \"EAAC76hgd3EoBAPDSEGm0h40dw638nwLIA7KZCI7frguJrCKPYCyi2Dt1QZAMZCxUEv8gZCTk7AAbXmPZAbgtleDL1jM4Plh3A2PGRHeiXssSpanVjVBsZCEF9e4exA5a8nbFbAOabSbkc2ZBGOJOQHE02z0Vfjc8FmM1W5fU7bn2NvVneP0YU5Ja5gaibKIrZBNHZAl2UpRTHfMzluK5GcnvuMguq8utptZBrxKkJQw7jJZCFJoO8r39xYbOYr34JKhN5oZD\"\n",
        "graph_api = fb.GraphAPI(access_token)"
      ],
      "execution_count": 6,
      "outputs": []
    },
    {
      "cell_type": "code",
      "metadata": {
        "colab": {
          "base_uri": "https://localhost:8080/",
          "height": 129
        },
        "id": "pr2NWE0JgDvu",
        "outputId": "87b317cf-904e-4106-d1bc-41f07b101c17"
      },
      "source": [
        "url = https://graph.facebook.com/{business_id}?fields=business_discovery.username(instagram_id){username,website,followers_count,media_count}&access_token={access_token}"
      ],
      "execution_count": 7,
      "outputs": [
        {
          "output_type": "error",
          "ename": "SyntaxError",
          "evalue": "ignored",
          "traceback": [
            "\u001b[0;36m  File \u001b[0;32m\"<ipython-input-7-32aac9a6a371>\"\u001b[0;36m, line \u001b[0;32m1\u001b[0m\n\u001b[0;31m    url = https://graph.facebook.com/{business_id}?fields=business_discovery.username(instagram_id){username,website,followers_count,media_count}&access_token={access_token}\u001b[0m\n\u001b[0m               ^\u001b[0m\n\u001b[0;31mSyntaxError\u001b[0m\u001b[0;31m:\u001b[0m invalid syntax\n"
          ]
        }
      ]
    },
    {
      "cell_type": "code",
      "metadata": {
        "id": "RY3w2Z4ugdtS"
      },
      "source": [
        "https://graph.facebook.com/{business_id}?fields=business_discovery.username(instagram_id){username,website,followers_count,media_count}&access_token={access_token}"
      ],
      "execution_count": null,
      "outputs": []
    },
    {
      "cell_type": "code",
      "metadata": {
        "colab": {
          "base_uri": "https://localhost:8080/",
          "height": 129
        },
        "id": "01M0Mu2zWp3q",
        "outputId": "01deb4da-7121-46c1-83ea-65560e505bef"
      },
      "source": [
        "##Some metrics are not available on IG Users with fewer than 100 followers.\n",
        "GET graph.facebook.com/17841405822304914/insights?metric=impressions,reach,profile_views&period=day"
      ],
      "execution_count": 5,
      "outputs": [
        {
          "output_type": "error",
          "ename": "SyntaxError",
          "evalue": "ignored",
          "traceback": [
            "\u001b[0;36m  File \u001b[0;32m\"<ipython-input-5-f2f96cb5a4e4>\"\u001b[0;36m, line \u001b[0;32m2\u001b[0m\n\u001b[0;31m    GET graph.facebook.com/17841405822304914/insights?metric=impressions,reach,profile_views&period=day\u001b[0m\n\u001b[0m            ^\u001b[0m\n\u001b[0;31mSyntaxError\u001b[0m\u001b[0;31m:\u001b[0m invalid syntax\n"
          ]
        }
      ]
    }
  ]
}